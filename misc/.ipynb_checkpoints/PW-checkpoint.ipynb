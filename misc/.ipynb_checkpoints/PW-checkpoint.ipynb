{
 "cells": [
  {
   "cell_type": "markdown",
   "id": "3249d326-802c-47ee-86f2-aeaca29e9955",
   "metadata": {},
   "source": [
    "### Checking precipitable water to get the first impression"
   ]
  },
  {
   "cell_type": "code",
   "execution_count": 1,
   "id": "8e218550-f633-4249-92e5-d81c4e90c24c",
   "metadata": {},
   "outputs": [],
   "source": [
    "import pickle\n",
    "import xarray as xr\n",
    "import numpy as np\n",
    "import matplotlib.pyplot as plt\n",
    "import pandas as pd\n",
    "%matplotlib inline  "
   ]
  },
  {
   "cell_type": "code",
   "execution_count": 2,
   "id": "8aa251a6-a133-48b1-afee-1ed0719af121",
   "metadata": {},
   "outputs": [],
   "source": [
    "# creatiing my own colormap\n",
    "from matplotlib import cm\n",
    "from matplotlib.colors import ListedColormap\n",
    "\n",
    "viridis = cm.get_cmap('PRGn_r', 256)\n",
    "newcolors = viridis(np.linspace(0,1,11))\n",
    "maxcolor = np.array([3/256, 54/256, 130/256, 1])\n",
    "mincolor = np.array([256/256, 256/256, 256/256, 1])\n",
    "#newcolors[-1:, :] = maxcolor\n",
    "newcolors[:1,:] = mincolor\n",
    "newcmp = ListedColormap(newcolors)"
   ]
  },
  {
   "cell_type": "code",
   "execution_count": 9,
   "id": "7c8b12fe-72a9-4263-92bd-9717aeefeeae",
   "metadata": {},
   "outputs": [],
   "source": [
    "opath='/project/meteo/w2w/B6/icon/naturerun-toy/spinnup/'\n",
    "ofiles=['param','shallow','stochastic_shallow','explicit']\n",
    "\n",
    "hist_bin=np.linspace(0,70,71)\n",
    "yy=hist_bin[1:]+hist_bin[:-1]\n",
    "yy=0.5*yy\n",
    "\n",
    "#create the temporal evolution of PW distribution for the 40-km run\n",
    "tqv_40km=xr.open_dataset(opath+'tqv-global1.nc')['tqv']\n",
    "tqv_40km=tqv_40km.sel(lat=slice(-20.,20.))\n",
    "nt_40km=tqv_40km.shape[0]\n",
    "pw_freq_40km=np.zeros((nt_40km, 70))\n",
    "\n",
    "for t in range(nt_40km):\n",
    "    pw_freq_40km[t,:], bin_edges=np.histogram(tqv_40km[t,...], bins=hist_bin, density=True)\n",
    "\n",
    "#create arr of time\n",
    "hist_time = tqv_40km.time.values.copy()"
   ]
  },
  {
   "cell_type": "code",
   "execution_count": 17,
   "id": "9fdc9e2d-a91a-4dc0-aeb4-489972b69098",
   "metadata": {},
   "outputs": [
    {
     "data": {
      "text/plain": [
       "969"
      ]
     },
     "execution_count": 17,
     "metadata": {},
     "output_type": "execute_result"
    }
   ],
   "source": [
    "tqv_40km.shape[0]"
   ]
  },
  {
   "cell_type": "code",
   "execution_count": 10,
   "id": "a4b6ff20-03c4-423c-bd86-65d2956e0393",
   "metadata": {},
   "outputs": [],
   "source": [
    "#create the temporal evolution of PW distribution for the 26-km run\n",
    "tqv_26km=xr.open_dataset(opath+'tqv-global2.nc')['tqv']\n",
    "tqv_26km=tqv_26km.sel(lat=slice(-20.,20.))\n",
    "nt_26km=tqv_26km.shape[0]\n",
    "pw_freq_26km=np.zeros((nt_26km, 70))\n",
    "\n",
    "for t in range(nt_26km):\n",
    "    pw_freq_26km[t,:], bin_edges=np.histogram(tqv_26km[t,...], bins=hist_bin, density=True)\n",
    "\n",
    "#arr for time\n",
    "hist_time = np.append(hist_time, tqv_26km.time.values)"
   ]
  },
  {
   "cell_type": "code",
   "execution_count": null,
   "id": "34a8bc77-c353-4f75-9a65-0cb52d11bdf8",
   "metadata": {},
   "outputs": [],
   "source": [
    "#create the temporal evolution of PW distribution for the 13-km run\n",
    "for i, od in enumerate(ofiles[:1]):\n",
    "    tqv_13km=xr.open_dataset(opath+od+'/tqv.nc')['tqv']\n",
    "    tqv_13km=tqv_13km.sel(lat=slice(-20.,20.))\n",
    "    #not including the last time step\n",
    "    #as this time step overlaps with the first time step of high-res runs\n",
    "    tqv_13km=tqv_13km.where(tqv_13km.time < tqv_13km.time[-1], drop=True) \n",
    "    nt_13km=time_40km.shape[0]\n",
    "    pw_freq_13km=np.zeros((nt_13km, 70))\n",
    "    \n",
    "    for t in range(nt_13km):\n",
    "    pw_freq_13km[t,:], bin_edges=np.histogram(tqv_13km[t,...], bins=hist_bin, density=True)\n",
    "\n",
    "    #arr for time\n",
    "    hist_time = np.append(hist_time, tqv_26km.time.values)"
   ]
  },
  {
   "cell_type": "code",
   "execution_count": null,
   "id": "510d232c-f942-418d-9073-0ae7fe44a377",
   "metadata": {},
   "outputs": [],
   "source": [
    "#maybe better to run a bash script to create a single file?\n",
    "tqv_5km=xr.open_dataset(opath+'tqv-global2.nc')['tqv']\n",
    "tqv_5km=tqv_5km.sel(lat=slice(-20.,20.))\n",
    "nt_5km=tqv_5km.shape[0]\n",
    "pw_freq_5km=np.zeros((nt_5km, 70))\n",
    "\n",
    "for t in range(nt_5km):\n",
    "    pw_freq_5km[t,:], bin_edges=np.histogram(tqv_5km[t,...], bins=hist_bin, density=True)\n",
    "\n",
    "#arr for time\n",
    "hist_time = np.append(hist_time, tqv_5km.time.values)"
   ]
  }
 ],
 "metadata": {
  "kernelspec": {
   "display_name": "Python 3 (ipykernel)",
   "language": "python",
   "name": "python3"
  },
  "language_info": {
   "codemirror_mode": {
    "name": "ipython",
    "version": 3
   },
   "file_extension": ".py",
   "mimetype": "text/x-python",
   "name": "python",
   "nbconvert_exporter": "python",
   "pygments_lexer": "ipython3",
   "version": "3.9.7"
  }
 },
 "nbformat": 4,
 "nbformat_minor": 5
}
