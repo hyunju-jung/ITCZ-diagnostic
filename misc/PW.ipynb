{
 "cells": [
  {
   "cell_type": "markdown",
   "id": "3249d326-802c-47ee-86f2-aeaca29e9955",
   "metadata": {},
   "source": [
    "### Checking precipitable water to get the first impression"
   ]
  },
  {
   "cell_type": "code",
   "execution_count": 20,
   "id": "8e218550-f633-4249-92e5-d81c4e90c24c",
   "metadata": {},
   "outputs": [],
   "source": [
    "import pickle\n",
    "import xarray as xr\n",
    "import numpy as np\n",
    "import matplotlib.pyplot as plt\n",
    "import pandas as pd\n",
    "import warnings\n",
    "%matplotlib inline  \n",
    "\n",
    "warnings.filterwarnings('ignore')"
   ]
  },
  {
   "cell_type": "code",
   "execution_count": 79,
   "id": "8aa251a6-a133-48b1-afee-1ed0719af121",
   "metadata": {},
   "outputs": [],
   "source": [
    "# creatiing my own colormap\n",
    "from matplotlib import cm\n",
    "from matplotlib.colors import ListedColormap\n",
    "\n",
    "viridis = cm.get_cmap('YlGnBu', 256)\n",
    "newcolors = viridis(np.linspace(0,1,13))\n",
    "newcolors = newcolors[2:,:]\n",
    "maxcolor = np.array([3/256, 54/256, 130/256, 1])\n",
    "mincolor = np.array([256/256, 256/256, 256/256, 1])\n",
    "#newcolors[-1:, :] = maxcolor\n",
    "newcolors[:1,:] = mincolor\n",
    "newcmp = ListedColormap(newcolors)"
   ]
  },
  {
   "cell_type": "code",
   "execution_count": 22,
   "id": "7c8b12fe-72a9-4263-92bd-9717aeefeeae",
   "metadata": {
    "tags": []
   },
   "outputs": [],
   "source": [
    "opath='/project/meteo/w2w/B6/icon/naturerun-toy/spinnup/'\n",
    "ofiles=['param','shallow','stochastic_shallow','explicit']\n",
    "\n",
    "hist_bin=np.linspace(0,70,71)\n",
    "yy=hist_bin[1:]+hist_bin[:-1]\n",
    "yy=0.5*yy\n",
    "\n",
    "#create the temporal evolution of PW distribution for the 40-km run\n",
    "tqv_40km=xr.open_dataset(opath+'tqv-global1.nc')['tqv']\n",
    "tqv_40km=tqv_40km.sel(lat=slice(-20.,20.))\n",
    "nt_40km=tqv_40km.shape[0]\n",
    "pw_freq_40km=np.zeros((nt_40km, 70))\n",
    "\n",
    "for t in range(nt_40km):\n",
    "    pw_freq_40km[t,:], bin_edges=np.histogram(tqv_40km[t,...], bins=hist_bin, density=True)"
   ]
  },
  {
   "cell_type": "code",
   "execution_count": 23,
   "id": "a4b6ff20-03c4-423c-bd86-65d2956e0393",
   "metadata": {},
   "outputs": [],
   "source": [
    "#create the temporal evolution of PW distribution for the 26-km run\n",
    "tqv_26km=xr.open_dataset(opath+'tqv-global2.nc')['tqv']\n",
    "tqv_26km=tqv_26km.sel(lat=slice(-20.,20.))\n",
    "tqv_26km=tqv_26km.where(tqv_26km.time < np.datetime64('2020-07-31T00'), drop=True)\n",
    "nt_26km=tqv_26km.shape[0]\n",
    "pw_freq_26km=np.zeros((nt_26km, 70))\n",
    "\n",
    "for t in range(nt_26km):\n",
    "    pw_freq_26km[t,:], bin_edges=np.histogram(tqv_26km[t,...], bins=hist_bin, density=True)"
   ]
  },
  {
   "cell_type": "code",
   "execution_count": 83,
   "id": "34a8bc77-c353-4f75-9a65-0cb52d11bdf8",
   "metadata": {},
   "outputs": [],
   "source": [
    "#create the temporal evolution of PW distribution for the 13-km run\n",
    "for i, od in enumerate(ofiles[:1]):\n",
    "    tqv_13km=xr.open_dataset(opath+od+'/tqv.nc')['tqv']\n",
    "    tqv_13km=tqv_13km.sel(lat=slice(-20.,20.))\n",
    "    \n",
    "    #compare the last time step\n",
    "    #tqv_13km[-1,...].plot.contourf(levels=np.linspace(0,60,61), cmap='viridis')\n",
    "    \n",
    "    #not including the last time step\n",
    "    #as this time step overlaps with the first time step of high-res runs\n",
    "    tqv_13km=tqv_13km.where(tqv_13km.time < tqv_13km.time[-1], drop=True) \n",
    "    nt_13km=tqv_13km.shape[0]\n",
    "    pw_freq_13km=np.zeros((nt_13km, 70))\n",
    "    \n",
    "    for t in range(nt_13km):\n",
    "        pw_freq_13km[t,:], bin_edges=np.histogram(tqv_13km[t,...], bins=hist_bin, density=True)"
   ]
  },
  {
   "cell_type": "code",
   "execution_count": 84,
   "id": "510d232c-f942-418d-9073-0ae7fe44a377",
   "metadata": {},
   "outputs": [],
   "source": [
    "#maybe better to run a bash script to create a single file?\n",
    "tqv_5km=xr.open_dataset('data/tqv-5km-param.nc')['tqv']\n",
    "tqv_5km=tqv_5km.sel(lat=slice(-20.,20.))\n",
    "\n",
    "#compare the first time step\n",
    "#tqv_5km[0,...].plot.contourf(levels=np.linspace(0,60,61), cmap='viridis')\n",
    "\n",
    "nt_5km=tqv_5km.shape[0]\n",
    "pw_freq_5km=np.zeros((nt_5km, 70))\n",
    "\n",
    "for t in range(nt_5km):\n",
    "    pw_freq_5km[t,:], bin_edges=np.histogram(tqv_5km[t,...], bins=hist_bin, density=True)"
   ]
  },
  {
   "cell_type": "code",
   "execution_count": 82,
   "id": "06c2a011-04d6-4d9b-849f-15db70dd9634",
   "metadata": {},
   "outputs": [
    {
     "data": {
      "image/png": "[encoded data removed]",
      "text/plain": [
       "<Figure size 936x144 with 2 Axes>"
      ]
     },
     "metadata": {
      "needs_background": "light"
     },
     "output_type": "display_data"
    }
   ],
   "source": [
    "#plotting\n",
    "fs = 15\n",
    "plt.rcParams.update({'font.size': fs})\n",
    "\n",
    "fig = plt.figure(figsize=(13,2))\n",
    "plt.subplots_adjust(left=0.08, right=0.91, bottom=0.35, top=0.98)\n",
    "\n",
    "#concatenate all arrays\n",
    "pw_freq=np.concatenate((pw_freq_40km, pw_freq_26km, pw_freq_13km, pw_freq_5km), axis=0)\n",
    "time=np.concatenate((tqv_40km.time, tqv_26km.time, tqv_13km.time, tqv_5km.time))\n",
    "#initial time as day 0\n",
    "time = time - np.datetime64('2020-01-01T00')\n",
    "time = time.astype('float')\n",
    "time = time*1e-9/86400.\n",
    "\n",
    "it_5km = int(time[-1])-40\n",
    "plt.axvspan(it_5km, it_5km+40, facecolor='pink', alpha=0.5, zorder=0)\n",
    "plt.axvspan(274, 274+40, facecolor='black', alpha=0.2, zorder=0)\n",
    "plt.rcParams['hatch.linewidth'] = 3.0\n",
    "\n",
    "#to bring the freq distribution front\n",
    "pw_freq = np.where(pw_freq > 0.01, pw_freq, np.nan)\n",
    "\n",
    "im=plt.contourf(time,yy,pw_freq.transpose(), cmap=newcmp,\n",
    "                levels=np.linspace(0,10,11)*0.01, extend='max')\n",
    "\n",
    "plt.vlines(time[nt_40km+nt_26km],0, 70, color='black', linewidth=3, ls='dotted')\n",
    "plt.vlines(time[nt_40km], 0, 70, color='black',linewidth=2, ls='dashed')\n",
    "plt.vlines(274, 0, 70, color='black', linewidth=2)\n",
    "plt.vlines(time[nt_40km+nt_26km+nt_13km], 0, 70, color='#FF81C0',linewidth=3, ls='dotted')\n",
    "plt.vlines(it_5km, 0, 70, color='#FF81C0',linewidth=2)\n",
    "plt.ylim(0,65)\n",
    "plt.xticks([0,50,100,150,200,250,274,it_5km])\n",
    "\n",
    "plt.xlabel('Time [d]')\n",
    "plt.ylabel('[kg m'+r'$^{-2}$'+']')\n",
    "cbaxes = fig.add_axes([0.92, 0.36, 0.01, 0.6]) #[left, bottom, width, height]\n",
    "cb=fig.colorbar(im,cax = cbaxes)\n",
    "plt.savefig('../fig/pw_evolution.png', dpi=150)"
   ]
  },
  {
   "cell_type": "markdown",
   "id": "220f7d0a-947f-45ba-a342-50b4c01a6ca3",
   "metadata": {},
   "source": [
    "### Create an animation"
   ]
  },
  {
   "cell_type": "code",
   "execution_count": 6,
   "id": "cf950065-4383-4411-a966-01f211273f1d",
   "metadata": {
    "scrolled": true,
    "tags": []
   },
   "outputs": [
    {
     "data": {
      "text/plain": [
       "<Figure size 720x720 with 0 Axes>"
      ]
     },
     "metadata": {},
     "output_type": "display_data"
    },
    {
     "data": {
      "text/plain": [
       "<Figure size 720x720 with 0 Axes>"
      ]
     },
     "metadata": {},
     "output_type": "display_data"
    }
   ],
   "source": [
    "from matplotlib.ticker import MultipleLocator\n",
    "from enstools.io import read\n",
    "flists=['param','shallow','stochastic_shallow','explicit','P5','E5']\n",
    "\n",
    "fs=15\n",
    "nn=15\n",
    "\n",
    "for it in range(2):\n",
    "    fig, axs = plt.subplots(6,1,figsize=(10,10)) # \n",
    "    plt.subplots_adjust(top=0.95, bottom=0.1, left=0.1, right=0.95, hspace=0.03)\n",
    "\n",
    "    clev=np.linspace(0,100,101)\n",
    "    title = ['(a) P13','(b) E13','(c) S13','(d) SS13','(e) P5','(f) E5']\n",
    "    isel=361\n",
    "    axs[-1].vlines(0,1,1, colors='#EDB4B5', label='35 mm/d')\n",
    "    axs[-1].vlines(0,1,1, colors='#C05D5D', label='70 mm/d')\n",
    "    #axs[-1].vlines(0,1,1, colors='#FEB2AA', label='35 mm/d')\n",
    "    #axs[-1].vlines(0,1,1, colors='#FD7280', label='50 mm/d')\n",
    "    #axs[-1].vlines(0,1,1, colors='#FD3464', label='70 mm/d')\n",
    "    \n",
    "    for i, od in enumerate(flists):\n",
    "        \n",
    "        if od == 'P5':\n",
    "            opath='/archive/meteo/w2w-p2/B6/natureruns_new/high_res_param'\n",
    "            tqv = xr.open_dataset('%s/nature_run_DOM01_ML_%04d.nc' % (opath, it*3+73))['tqv']\n",
    "            \n",
    "            tot_prec1 = xr.open_dataset('data/%s/obs_DOM01_reg_ML_tot_prec_%04d.nc' % (od, it*3+73))['tot_prec']\n",
    "            tot_prec2 = xr.open_dataset('data/%s/obs_DOM01_reg_ML_tot_prec_%04d.nc' % (od, (it+1)*3+73))['tot_prec']\n",
    "            \n",
    "            itime=np.datetime64('2020-11-10T00')\n",
    "            \n",
    "        elif od == 'E5':\n",
    "            opath='/archive/meteo/w2w-p2/B6/natureruns_new/high_res_explicit'\n",
    "            tqv = read('%s/nature_run_DOM01_ML_%04d.nc' % (opath,it*3+121))['tqv']\n",
    "            \n",
    "            tot_prec1 = xr.open_dataset('data/%s/obs_DOM01_reg_ML_tot_prec_%04d.nc' % (od, it*3+121))['tot_prec']\n",
    "            tot_prec2 = xr.open_dataset('data/%s/obs_DOM01_reg_ML_tot_prec_%04d.nc' % (od, (it+1)*3+121))['tot_prec']\n",
    "            \n",
    "            itime=np.datetime64('2020-11-10T00')\n",
    "            \n",
    "        else:\n",
    "            opath='/archive/meteo/w2w-p2/B6/natureruns_new/'\n",
    "            tqv = xr.open_dataset('%s%s/nature_run_DOM01_ML_%04d.nc' % (opath, od, (it*3+1) ))['tqv']\n",
    "            \n",
    "            tot_prec1 = xr.open_dataset('data/%s/obs_DOM01_reg_ML_tot_prec_%04d.nc' % (od, it*3+1))['tot_prec']\n",
    "            tot_prec2 = xr.open_dataset('data/%s/obs_DOM01_reg_ML_tot_prec_%04d.nc' % (od, (it+1)*3+1))['tot_prec']\n",
    "\n",
    "            itime=np.datetime64('2020-10-01T00')\n",
    "            \n",
    "        time1=tot_prec1.time.values - itime\n",
    "        #time2=tot_prec2.time.values - itime\n",
    "        \n",
    "        prec = tot_prec2 - tot_prec1.values\n",
    "        prec = prec*24./3 #mm/d\n",
    "        \n",
    "        im1=tqv[0,:,:].sel(lat=slice(-20,20)).plot.contourf(ax=axs[i], levels=np.linspace(0,60,61), cmap='Blues',\n",
    "                                     add_labels=False, label=False, add_colorbar=False)\n",
    "        cs=axs[i].contour(prec.lon, prec.lat, prec[0,...], linewidths=1,\n",
    "                          levels=[35,70], colors=['#EDB4B5','#C05D5D'])#colors=['#FEB2AA','#FD3464'])\n",
    "                           #levels=[10,50,100], colors=['#FEB2AA','#FD7280','#FD3464'])\n",
    "        \n",
    "        axs[i].set_ylabel(title[i], fontsize=fs)\n",
    "        \n",
    "        if i == 0:\n",
    "            t_time = tqv.time[0] - np.datetime64('2020-10-01T00')\n",
    "            t_time = float(t_time.values)*1e-9/86400.\n",
    "            axs[0].set_title('Day %.2f' % t_time, fontsize=15)\n",
    "\n",
    "    for ax in fig.get_axes():\n",
    "        ax.label_outer()\n",
    "\n",
    "    ythicks = ['15\\u00b0S','0\\u00b0N','15\\u00b0N']\n",
    "    for ax in axs.flat:\n",
    "        ax.tick_params(axis=\"y\",labelsize=fs)\n",
    "        ax.set_ylim(-20.,20.)\n",
    "        ax.set_yticks([-15,0,15])\n",
    "        ax.yaxis.set_minor_locator(MultipleLocator(5))\n",
    "        ax.set_xticks([-180,-135,-90,-45,0,45,90,135,180])\n",
    "        ax.set_yticklabels(ythicks)\n",
    "\n",
    "    #axs[0].set_title(\"Total cloud cover\", fontsize = fs)\n",
    "\n",
    "    axs[-1].set_xticks([-180,-90,0,90,180])\n",
    "    axs[-1].set_xticklabels(['180\\u00b0W','90\\u00b0W','0\\u00b0','90\\u00b0E','180\\u00b0E'])\n",
    "    axs[-1].tick_params(axis=\"x\",labelsize=fs)\n",
    "    axs[-1].xaxis.set_minor_locator(MultipleLocator(45))\n",
    "\n",
    "    cbaxes1 = fig.add_axes([0.08, 0.04, 0.6, 0.015]) #[left, bottom, width, height]\n",
    "    \n",
    "    cticks=[0, 10, 20, 30, 40, 50, 60]    \n",
    "    cb1=fig.colorbar(im1,cax = cbaxes1, ticks=cticks, orientation='horizontal')\n",
    "    cb1.ax.tick_params(labelsize=fs)\n",
    "    fig.text(0.68, 0.04, '[kg m'+r'$^{-2}$'+']', fontsize=fs*0.9)\n",
    "        \n",
    "    axs[-1].legend(loc='lower right', bbox_to_anchor=(1,-0.75), frameon=False, fontsize=fs*0.9)\n",
    "    #fig.patch.set_facecolor('white')\n",
    "    plt.savefig('../gif_2/pw-%03d.png' % it, dpi =100,facecolor='white')\n",
    "    plt.clf()"
   ]
  },
  {
   "cell_type": "code",
   "execution_count": null,
   "id": "ea82c2fa-4d95-489a-85b9-c21b3cb13eb7",
   "metadata": {},
   "outputs": [],
   "source": []
  }
 ],
 "metadata": {
  "kernelspec": {
   "display_name": "Python 3 (ipykernel)",
   "language": "python",
   "name": "python3"
  },
  "language_info": {
   "codemirror_mode": {
    "name": "ipython",
    "version": 3
   },
   "file_extension": ".py",
   "mimetype": "text/x-python",
   "name": "python",
   "nbconvert_exporter": "python",
   "pygments_lexer": "ipython3",
   "version": "3.9.7"
  }
 },
 "nbformat": 4,
 "nbformat_minor": 5
}
