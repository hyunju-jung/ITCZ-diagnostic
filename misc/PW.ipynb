{
 "cells": [
  {
   "cell_type": "markdown",
   "id": "3249d326-802c-47ee-86f2-aeaca29e9955",
   "metadata": {},
   "source": [
    "### Checking precipitable water to get the first impression"
   ]
  },
  {
   "cell_type": "code",
   "execution_count": 1,
   "id": "8e218550-f633-4249-92e5-d81c4e90c24c",
   "metadata": {},
   "outputs": [],
   "source": [
    "import pickle\n",
    "import xarray as xr\n",
    "import numpy as np\n",
    "import matplotlib.pyplot as plt\n",
    "import pandas as pd\n",
    "%matplotlib inline  "
   ]
  },
  {
   "cell_type": "code",
   "execution_count": 2,
   "id": "8aa251a6-a133-48b1-afee-1ed0719af121",
   "metadata": {},
   "outputs": [],
   "source": [
    "# creatiing my own colormap\n",
    "from matplotlib import cm\n",
    "from matplotlib.colors import ListedColormap\n",
    "\n",
    "viridis = cm.get_cmap('PRGn_r', 256)\n",
    "newcolors = viridis(np.linspace(0,1,11))\n",
    "maxcolor = np.array([3/256, 54/256, 130/256, 1])\n",
    "mincolor = np.array([256/256, 256/256, 256/256, 1])\n",
    "#newcolors[-1:, :] = maxcolor\n",
    "newcolors[:1,:] = mincolor\n",
    "newcmp = ListedColormap(newcolors)"
   ]
  },
  {
   "cell_type": "code",
   "execution_count": 3,
   "id": "7c8b12fe-72a9-4263-92bd-9717aeefeeae",
   "metadata": {},
   "outputs": [],
   "source": [
    "opath='/project/meteo/w2w/B6/icon/naturerun-toy/spinnup/'\n",
    "ofiles=['param','shallow','stochastic_shallow','explicit']\n",
    "\n",
    "hist_bin=np.linspace(0,70,71)\n",
    "yy=hist_bin[1:]+hist_bin[:-1]\n",
    "yy=0.5*yy\n",
    "\n",
    "#create the temporal evolution of PW distribution for the 40-km run\n",
    "tqv_40km=xr.open_dataset(opath+'tqv-global1.nc')['tqv']\n",
    "tqv_40km=tqv_40km.sel(lat=slice(-20.,20.))\n",
    "nt_40km=tqv_40km.shape[0]\n",
    "pw_freq_40km=np.zeros((nt_40km, 70))\n",
    "\n",
    "for t in range(nt_40km):\n",
    "    pw_freq_40km[t,:], bin_edges=np.histogram(tqv_40km[t,...], bins=hist_bin, density=True)"
   ]
  },
  {
   "cell_type": "code",
   "execution_count": 4,
   "id": "a4b6ff20-03c4-423c-bd86-65d2956e0393",
   "metadata": {},
   "outputs": [],
   "source": [
    "#create the temporal evolution of PW distribution for the 26-km run\n",
    "tqv_26km=xr.open_dataset(opath+'tqv-global2.nc')['tqv']\n",
    "tqv_26km=tqv_26km.sel(lat=slice(-20.,20.))\n",
    "tqv_26km=tqv_26km.where(tqv_26km.time < np.datetime64('2020-07-31T00'), drop=True)\n",
    "nt_26km=tqv_26km.shape[0]\n",
    "pw_freq_26km=np.zeros((nt_26km, 70))\n",
    "\n",
    "for t in range(nt_26km):\n",
    "    pw_freq_26km[t,:], bin_edges=np.histogram(tqv_26km[t,...], bins=hist_bin, density=True)"
   ]
  },
  {
   "cell_type": "code",
   "execution_count": 5,
   "id": "34a8bc77-c353-4f75-9a65-0cb52d11bdf8",
   "metadata": {},
   "outputs": [],
   "source": [
    "#create the temporal evolution of PW distribution for the 13-km run\n",
    "for i, od in enumerate(ofiles[:1]):\n",
    "    tqv_13km=xr.open_dataset(opath+od+'/tqv.nc')['tqv']\n",
    "    tqv_13km=tqv_13km.sel(lat=slice(-20.,20.))\n",
    "    #not including the last time step\n",
    "    #as this time step overlaps with the first time step of high-res runs\n",
    "    tqv_13km=tqv_13km.where(tqv_13km.time < tqv_13km.time[-1], drop=True) \n",
    "    nt_13km=tqv_13km.shape[0]\n",
    "    pw_freq_13km=np.zeros((nt_13km, 70))\n",
    "    \n",
    "    for t in range(nt_13km):\n",
    "        pw_freq_13km[t,:], bin_edges=np.histogram(tqv_13km[t,...], bins=hist_bin, density=True)"
   ]
  },
  {
   "cell_type": "code",
   "execution_count": 7,
   "id": "510d232c-f942-418d-9073-0ae7fe44a377",
   "metadata": {},
   "outputs": [],
   "source": [
    "#maybe better to run a bash script to create a single file?\n",
    "tqv_5km=xr.open_dataset('data/tqv-5km-param.nc')['tqv']\n",
    "tqv_5km=tqv_5km.sel(lat=slice(-20.,20.))\n",
    "nt_5km=tqv_5km.shape[0]\n",
    "pw_freq_5km=np.zeros((nt_5km, 70))\n",
    "\n",
    "for t in range(nt_5km):\n",
    "    pw_freq_5km[t,:], bin_edges=np.histogram(tqv_5km[t,...], bins=hist_bin, density=True)"
   ]
  },
  {
   "cell_type": "code",
   "execution_count": 25,
   "id": "06c2a011-04d6-4d9b-849f-15db70dd9634",
   "metadata": {},
   "outputs": [
    {
     "data": {
      "image/png": "[encoded data removed]",
      "text/plain": [
       "<Figure size 936x144 with 2 Axes>"
      ]
     },
     "metadata": {
      "needs_background": "light"
     },
     "output_type": "display_data"
    }
   ],
   "source": [
    "#plotting\n",
    "fs = 15\n",
    "plt.rcParams.update({'font.size': fs})\n",
    "\n",
    "fig = plt.figure(figsize=(13,2))\n",
    "plt.subplots_adjust(left=0.11, right=0.91, bottom=0.35, top=0.98)\n",
    "\n",
    "#concatenate all arrays\n",
    "pw_freq=np.concatenate((pw_freq_40km, pw_freq_26km, pw_freq_13km, pw_freq_5km), axis=0)\n",
    "time=np.concatenate((tqv_40km.time, tqv_26km.time, tqv_13km.time, tqv_5km.time))\n",
    "#initial time as day 0\n",
    "time = time - np.datetime64('2020-01-01T00')\n",
    "time = time.astype('float')\n",
    "time = time*1e-9/86400.\n",
    "\n",
    "im=plt.contourf(time,yy,pw_freq.transpose(), cmap=newcmp,\n",
    "                levels=np.linspace(0,10,11)*0.01, extend='max')\n",
    "\n",
    "plt.vlines(time[nt_40km+nt_26km],0, 70, color='black', linewidth=2, ls='dotted')\n",
    "plt.vlines(time[nt_40km], 0, 70, color='gray',linewidth=2, ls='dotted')\n",
    "plt.vlines(274, 0, 70, color='black', linewidth=2)\n",
    "plt.vlines(time[nt_40km+nt_26km+nt_13km], 0, 70, color='pink',linewidth=2, ls='dotted')\n",
    "plt.vlines(317, 0, 70, color='pink',linewidth=2)\n",
    "plt.ylim(0,65)\n",
    "plt.xticks([0,50,100,150,200,250,274,314])\n",
    "\n",
    "plt.xlabel('Time [d]')\n",
    "plt.ylabel('[kg m'+r'$^{-2}$'+']')\n",
    "cbaxes = fig.add_axes([0.92, 0.36, 0.01, 0.6]) #[left, bottom, width, height]\n",
    "cb=fig.colorbar(im,cax = cbaxes)\n",
    "plt.savefig('../fig/pw_evolution.png', dpi=150)"
   ]
  },
  {
   "cell_type": "code",
   "execution_count": null,
   "id": "cf950065-4383-4411-a966-01f211273f1d",
   "metadata": {},
   "outputs": [],
   "source": []
  }
 ],
 "metadata": {
  "kernelspec": {
   "display_name": "Python 3 (ipykernel)",
   "language": "python",
   "name": "python3"
  },
  "language_info": {
   "codemirror_mode": {
    "name": "ipython",
    "version": 3
   },
   "file_extension": ".py",
   "mimetype": "text/x-python",
   "name": "python",
   "nbconvert_exporter": "python",
   "pygments_lexer": "ipython3",
   "version": "3.9.7"
  }
 },
 "nbformat": 4,
 "nbformat_minor": 5
}
